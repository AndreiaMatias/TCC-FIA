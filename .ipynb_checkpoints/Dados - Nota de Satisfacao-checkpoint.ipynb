{
 "cells": [
  {
   "cell_type": "code",
   "execution_count": 1,
   "metadata": {},
   "outputs": [],
   "source": [
    "import pandas as pd\n",
    "import numpy as np"
   ]
  },
  {
   "cell_type": "code",
   "execution_count": 2,
   "metadata": {},
   "outputs": [],
   "source": [
    "reclamacoes = []"
   ]
  },
  {
   "cell_type": "code",
   "execution_count": 3,
   "metadata": {},
   "outputs": [],
   "source": [
    "gov_20191 = pd.read_csv('amplo2019 - 1.csv', delimiter=\";\", encoding='utf-8')"
   ]
  },
  {
   "cell_type": "code",
   "execution_count": 4,
   "metadata": {},
   "outputs": [],
   "source": [
    "pd.read_csv('amplo2019-2.csv', delimiter=\";\", encoding='latin1').to_csv(\"gov2019-2.csv\", encoding=\"utf-8\", index=False)"
   ]
  },
  {
   "cell_type": "code",
   "execution_count": 5,
   "metadata": {},
   "outputs": [],
   "source": [
    "gov_20192 = pd.read_csv('gov2019-2.csv', delimiter=\",\", encoding='utf-8')"
   ]
  },
  {
   "cell_type": "code",
   "execution_count": 6,
   "metadata": {},
   "outputs": [],
   "source": [
    "reclamacoes.append(gov_20191)"
   ]
  },
  {
   "cell_type": "code",
   "execution_count": 7,
   "metadata": {},
   "outputs": [],
   "source": [
    "reclamacoes.append(gov_20192)"
   ]
  },
  {
   "cell_type": "code",
   "execution_count": 8,
   "metadata": {},
   "outputs": [],
   "source": [
    "pd.read_csv('20181osemestre.csv', delimiter=\";\", encoding='latin1').to_csv(\"gov2018-1.csv\", encoding=\"utf-8\", index=False)"
   ]
  },
  {
   "cell_type": "code",
   "execution_count": 9,
   "metadata": {},
   "outputs": [],
   "source": [
    "gov_20181 = pd.read_csv('gov2018-1.csv', delimiter=\",\", encoding='utf-8', usecols= ['Assunto', 'Avaliação Reclamação', 'Cidade', 'Como Comprou Contratou',\n",
    "       'Data Finalização', 'Faixa Etária', 'Grupo Problema', 'Nome Fantasia', 'Nota do Consumidor', 'Problema', 'Procurou Empresa', 'Região',\n",
    "       'Respondida', 'Segmento de Mercado', 'Sexo', 'Situação', 'Tempo Resposta', 'Total', 'UF',  'Área'])"
   ]
  },
  {
   "cell_type": "code",
   "execution_count": 10,
   "metadata": {},
   "outputs": [],
   "source": [
    "reclamacoes.append(gov_20181)"
   ]
  },
  {
   "cell_type": "code",
   "execution_count": 11,
   "metadata": {},
   "outputs": [],
   "source": [
    "pd.read_csv('20182osemestre.csv', delimiter=\";\", encoding='latin1').to_csv(\"gov2018-2.csv\", encoding=\"utf-8\")"
   ]
  },
  {
   "cell_type": "code",
   "execution_count": 12,
   "metadata": {},
   "outputs": [],
   "source": [
    "gov_20182 = pd.read_csv('gov2018-2.csv', delimiter=\",\", encoding='utf-8', usecols= ['Assunto', 'Avaliação Reclamação', 'Cidade', 'Como Comprou Contratou',\n",
    "       'Data Finalização', 'Faixa Etária', 'Grupo Problema', 'Nome Fantasia', 'Nota do Consumidor', 'Problema', 'Procurou Empresa', 'Região',\n",
    "       'Respondida', 'Segmento de Mercado', 'Sexo', 'Situação', 'Tempo Resposta', 'Total', 'UF',  'Área'])"
   ]
  },
  {
   "cell_type": "code",
   "execution_count": 13,
   "metadata": {},
   "outputs": [],
   "source": [
    "reclamacoes.append(gov_20182)"
   ]
  },
  {
   "cell_type": "code",
   "execution_count": 14,
   "metadata": {},
   "outputs": [],
   "source": [
    "pd.read_csv('dadosgovbr---2017.csv', delimiter=\";\", encoding='latin1').to_csv(\"gov2017.csv\", encoding=\"utf-8\", index=False)"
   ]
  },
  {
   "cell_type": "code",
   "execution_count": 15,
   "metadata": {},
   "outputs": [],
   "source": [
    "gov_2017 = pd.read_csv('gov2017.csv', delimiter=\",\", encoding='utf-8', usecols= ['Assunto', 'Avaliação Reclamação', 'Cidade', 'Como Comprou Contratou',\n",
    "       'Data Finalização', 'Faixa Etária', 'Grupo Problema', 'Nome Fantasia', 'Nota do Consumidor', 'Problema', 'Procurou Empresa', 'Região',\n",
    "       'Respondida', 'Segmento de Mercado', 'Sexo', 'Situação', 'Tempo Resposta', 'Total', 'UF',  'Área'])"
   ]
  },
  {
   "cell_type": "code",
   "execution_count": 16,
   "metadata": {},
   "outputs": [],
   "source": [
    "reclamacoes.append(gov_2017)"
   ]
  },
  {
   "cell_type": "code",
   "execution_count": 17,
   "metadata": {},
   "outputs": [],
   "source": [
    "pd.read_csv('dadosgovbr---2016.csv', delimiter=\";\", encoding='latin1').to_csv(\"gov2016.csv\", encoding=\"utf-8\", index=False)"
   ]
  },
  {
   "cell_type": "code",
   "execution_count": 18,
   "metadata": {},
   "outputs": [],
   "source": [
    "gov_2016 = pd.read_csv('gov2016.csv', delimiter=\",\", encoding='utf-8', usecols= ['Assunto', 'Avaliação Reclamação', 'Cidade', 'Como Comprou Contratou',\n",
    "       'Data Finalização', 'Faixa Etária', 'Grupo Problema', 'Nome Fantasia', 'Nota do Consumidor', 'Problema', 'Procurou Empresa', 'Região',\n",
    "       'Respondida', 'Segmento de Mercado', 'Sexo', 'Situação', 'Tempo Resposta', 'Total', 'UF',  'Área'])"
   ]
  },
  {
   "cell_type": "code",
   "execution_count": 19,
   "metadata": {},
   "outputs": [],
   "source": [
    "reclamacoes.append(gov_2016)"
   ]
  },
  {
   "cell_type": "code",
   "execution_count": 20,
   "metadata": {},
   "outputs": [],
   "source": [
    "pd.read_csv('dadosgovbr---2015.csv', delimiter=\";\", encoding='latin-1').to_csv(\"gov2015.csv\", encoding=\"utf-8\", index=False)"
   ]
  },
  {
   "cell_type": "code",
   "execution_count": 21,
   "metadata": {},
   "outputs": [],
   "source": [
    "gov_2015 = pd.read_csv('gov2015.csv', delimiter=\",\", encoding='utf-8', usecols= ['Assunto', 'Avaliação Reclamação', 'Cidade', 'Como Comprou Contratou',\n",
    "       'Data Finalização', 'Faixa Etária', 'Grupo Problema', 'Nome Fantasia', 'Nota do Consumidor', 'Problema', 'Procurou Empresa', 'Região',\n",
    "       'Respondida', 'Segmento de Mercado', 'Sexo', 'Situação', 'Tempo Resposta', 'Total', 'UF', 'Área'])"
   ]
  },
  {
   "cell_type": "code",
   "execution_count": 22,
   "metadata": {},
   "outputs": [],
   "source": [
    "reclamacoes.append(gov_2015)"
   ]
  },
  {
   "cell_type": "code",
   "execution_count": 23,
   "metadata": {},
   "outputs": [],
   "source": [
    "pd.read_csv('dadosgovbr---2014.csv', delimiter=\";\", encoding='latin-1').to_csv(\"gov2014.csv\", encoding=\"utf-8\", index=False)"
   ]
  },
  {
   "cell_type": "code",
   "execution_count": 24,
   "metadata": {},
   "outputs": [],
   "source": [
    "gov_2014 = pd.read_csv('gov2014.csv', delimiter=\",\", encoding='utf-8', usecols= ['Assunto', 'Avaliação Reclamação', 'Cidade', 'Como Comprou Contratou',\n",
    "       'Data Finalização', 'Faixa Etária', 'Grupo Problema', 'Nome Fantasia', 'Nota do Consumidor', 'Problema', 'Procurou Empresa', 'Região',\n",
    "       'Respondida', 'Segmento de Mercado', 'Sexo', 'Situação', 'Tempo Resposta', 'Total', 'UF', 'Área'])"
   ]
  },
  {
   "cell_type": "code",
   "execution_count": 25,
   "metadata": {},
   "outputs": [],
   "source": [
    "reclamacao = pd.concat(reclamacoes, ignore_index=True)"
   ]
  },
  {
   "cell_type": "code",
   "execution_count": 26,
   "metadata": {},
   "outputs": [
    {
     "name": "stdout",
     "output_type": "stream",
     "text": [
      "<class 'pandas.core.frame.DataFrame'>\n",
      "RangeIndex: 2512211 entries, 0 to 2512210\n",
      "Data columns (total 20 columns):\n",
      "Região                    object\n",
      "UF                        object\n",
      "Cidade                    object\n",
      "Sexo                      object\n",
      "Faixa Etária              object\n",
      "Data Finalização          object\n",
      "Tempo Resposta            float64\n",
      "Nome Fantasia             object\n",
      "Segmento de Mercado       object\n",
      "Área                      object\n",
      "Assunto                   object\n",
      "Grupo Problema            object\n",
      "Problema                  object\n",
      "Como Comprou Contratou    object\n",
      "Procurou Empresa          object\n",
      "Respondida                object\n",
      "Situação                  object\n",
      "Avaliação Reclamação      object\n",
      "Nota do Consumidor        float64\n",
      "Total                     int64\n",
      "dtypes: float64(2), int64(1), object(17)\n",
      "memory usage: 383.3+ MB\n"
     ]
    }
   ],
   "source": [
    "reclamacao.info()"
   ]
  },
  {
   "cell_type": "code",
   "execution_count": 27,
   "metadata": {},
   "outputs": [],
   "source": [
    "segmentos = reclamacao[(reclamacao['Segmento de Mercado']==\"Bancos, Financeiras e Administradoras de Cartão\")]"
   ]
  },
  {
   "cell_type": "code",
   "execution_count": 28,
   "metadata": {},
   "outputs": [
    {
     "data": {
      "text/plain": [
       "1.0    105206\n",
       "5.0     77027\n",
       "3.0     28585\n",
       "4.0     28580\n",
       "2.0     15189\n",
       "Name: Nota do Consumidor, dtype: int64"
      ]
     },
     "execution_count": 28,
     "metadata": {},
     "output_type": "execute_result"
    }
   ],
   "source": [
    "segmentos[\"Nota do Consumidor\"].value_counts()"
   ]
  },
  {
   "cell_type": "code",
   "execution_count": 29,
   "metadata": {},
   "outputs": [],
   "source": [
    "bb = reclamacao[(reclamacao['Nome Fantasia']=='Banco do Brasil')]"
   ]
  },
  {
   "cell_type": "code",
   "execution_count": 30,
   "metadata": {},
   "outputs": [
    {
     "data": {
      "text/plain": [
       "5.0    6905\n",
       "1.0    6396\n",
       "4.0    2401\n",
       "3.0    2081\n",
       "2.0    1104\n",
       "Name: Nota do Consumidor, dtype: int64"
      ]
     },
     "execution_count": 30,
     "metadata": {},
     "output_type": "execute_result"
    }
   ],
   "source": [
    "bb[\"Nota do Consumidor\"]. value_counts()"
   ]
  },
  {
   "cell_type": "code",
   "execution_count": 31,
   "metadata": {},
   "outputs": [],
   "source": [
    "cef = reclamacao[(reclamacao['Nome Fantasia']=='Caixa Econômica Federal')]"
   ]
  },
  {
   "cell_type": "code",
   "execution_count": 32,
   "metadata": {},
   "outputs": [
    {
     "data": {
      "text/plain": [
       "1.0    14481\n",
       "5.0    11285\n",
       "4.0     4741\n",
       "3.0     4674\n",
       "2.0     2514\n",
       "Name: Nota do Consumidor, dtype: int64"
      ]
     },
     "execution_count": 32,
     "metadata": {},
     "output_type": "execute_result"
    }
   ],
   "source": [
    "cef['Nota do Consumidor'].value_counts()"
   ]
  },
  {
   "cell_type": "code",
   "execution_count": 33,
   "metadata": {},
   "outputs": [],
   "source": [
    "itau = reclamacao[(reclamacao['Nome Fantasia']=='Banco Itaú Unibanco')]"
   ]
  },
  {
   "cell_type": "code",
   "execution_count": 34,
   "metadata": {},
   "outputs": [
    {
     "data": {
      "text/plain": [
       "5.0    7837\n",
       "1.0    7539\n",
       "4.0    2382\n",
       "3.0    2194\n",
       "2.0    1131\n",
       "Name: Nota do Consumidor, dtype: int64"
      ]
     },
     "execution_count": 34,
     "metadata": {},
     "output_type": "execute_result"
    }
   ],
   "source": [
    "itau['Nota do Consumidor'].value_counts()"
   ]
  },
  {
   "cell_type": "code",
   "execution_count": 35,
   "metadata": {},
   "outputs": [],
   "source": [
    "bradesco = reclamacao[(reclamacao['Nome Fantasia']=='Banco Bradesco')]"
   ]
  },
  {
   "cell_type": "code",
   "execution_count": 36,
   "metadata": {},
   "outputs": [
    {
     "data": {
      "text/plain": [
       "1.0    8873\n",
       "5.0    4504\n",
       "3.0    2358\n",
       "4.0    1949\n",
       "2.0    1246\n",
       "Name: Nota do Consumidor, dtype: int64"
      ]
     },
     "execution_count": 36,
     "metadata": {},
     "output_type": "execute_result"
    }
   ],
   "source": [
    "bradesco['Nota do Consumidor'].value_counts()"
   ]
  },
  {
   "cell_type": "code",
   "execution_count": 37,
   "metadata": {},
   "outputs": [],
   "source": [
    "santander = reclamacao[(reclamacao['Nome Fantasia']=='Banco Santander')]"
   ]
  },
  {
   "cell_type": "code",
   "execution_count": 38,
   "metadata": {},
   "outputs": [
    {
     "data": {
      "text/plain": [
       "1.0    9267\n",
       "5.0    4214\n",
       "3.0    2139\n",
       "4.0    1723\n",
       "2.0    1282\n",
       "Name: Nota do Consumidor, dtype: int64"
      ]
     },
     "execution_count": 38,
     "metadata": {},
     "output_type": "execute_result"
    }
   ],
   "source": [
    "santander['Nota do Consumidor'].value_counts()"
   ]
  },
  {
   "cell_type": "code",
   "execution_count": 39,
   "metadata": {},
   "outputs": [],
   "source": [
    "maiores_bancos = reclamacao[(reclamacao['Nome Fantasia']=='Banco Itaú Unibanco') | (reclamacao['Nome Fantasia']=='Banco Bradesco') | (reclamacao['Nome Fantasia']=='Banco do Brasil')|(reclamacao['Nome Fantasia']=='Caixa Econômica Federal')|(reclamacao['Nome Fantasia']=='Banco Santander')]"
   ]
  },
  {
   "cell_type": "code",
   "execution_count": 41,
   "metadata": {},
   "outputs": [
    {
     "name": "stderr",
     "output_type": "stream",
     "text": [
      "C:\\ProgramData\\Anaconda3\\lib\\site-packages\\pandas\\core\\frame.py:3940: SettingWithCopyWarning: \n",
      "A value is trying to be set on a copy of a slice from a DataFrame\n",
      "\n",
      "See the caveats in the documentation: http://pandas.pydata.org/pandas-docs/stable/indexing.html#indexing-view-versus-copy\n",
      "  errors=errors)\n"
     ]
    }
   ],
   "source": [
    "bb.drop(['Nome Fantasia', 'Segmento de Mercado', 'Área', 'Total'], axis = 1, inplace=True)"
   ]
  },
  {
   "cell_type": "code",
   "execution_count": 42,
   "metadata": {},
   "outputs": [
    {
     "data": {
      "text/html": [
       "<div>\n",
       "<style scoped>\n",
       "    .dataframe tbody tr th:only-of-type {\n",
       "        vertical-align: middle;\n",
       "    }\n",
       "\n",
       "    .dataframe tbody tr th {\n",
       "        vertical-align: top;\n",
       "    }\n",
       "\n",
       "    .dataframe thead th {\n",
       "        text-align: right;\n",
       "    }\n",
       "</style>\n",
       "<table border=\"1\" class=\"dataframe\">\n",
       "  <thead>\n",
       "    <tr style=\"text-align: right;\">\n",
       "      <th></th>\n",
       "      <th>Nota do Consumidor</th>\n",
       "      <th>%</th>\n",
       "    </tr>\n",
       "  </thead>\n",
       "  <tbody>\n",
       "    <tr>\n",
       "      <th>0</th>\n",
       "      <td>NaN</td>\n",
       "      <td>54.833078</td>\n",
       "    </tr>\n",
       "    <tr>\n",
       "      <th>1</th>\n",
       "      <td>5.0</td>\n",
       "      <td>16.512818</td>\n",
       "    </tr>\n",
       "    <tr>\n",
       "      <th>2</th>\n",
       "      <td>1.0</td>\n",
       "      <td>15.295581</td>\n",
       "    </tr>\n",
       "    <tr>\n",
       "      <th>3</th>\n",
       "      <td>4.0</td>\n",
       "      <td>5.741821</td>\n",
       "    </tr>\n",
       "    <tr>\n",
       "      <th>4</th>\n",
       "      <td>3.0</td>\n",
       "      <td>4.976564</td>\n",
       "    </tr>\n",
       "    <tr>\n",
       "      <th>5</th>\n",
       "      <td>2.0</td>\n",
       "      <td>2.640138</td>\n",
       "    </tr>\n",
       "  </tbody>\n",
       "</table>\n",
       "</div>"
      ],
      "text/plain": [
       "   Nota do Consumidor          %\n",
       "0                 NaN  54.833078\n",
       "1                 5.0  16.512818\n",
       "2                 1.0  15.295581\n",
       "3                 4.0   5.741821\n",
       "4                 3.0   4.976564\n",
       "5                 2.0   2.640138"
      ]
     },
     "execution_count": 42,
     "metadata": {},
     "output_type": "execute_result"
    }
   ],
   "source": [
    "(bb['Nota do Consumidor'].value_counts(normalize = True, dropna=False)*100).reset_index().rename({'index': 'Nota do Consumidor', 'Nota do Consumidor':'%'}, axis=1)"
   ]
  },
  {
   "cell_type": "code",
   "execution_count": 43,
   "metadata": {},
   "outputs": [],
   "source": [
    "bb[bb['Nota do Consumidor'].notna()].to_csv(\"bb.csv\", index = False)"
   ]
  }
 ],
 "metadata": {
  "kernelspec": {
   "display_name": "Python 3 (ipykernel)",
   "language": "python",
   "name": "python3"
  },
  "language_info": {
   "codemirror_mode": {
    "name": "ipython",
    "version": 3
   },
   "file_extension": ".py",
   "mimetype": "text/x-python",
   "name": "python",
   "nbconvert_exporter": "python",
   "pygments_lexer": "ipython3",
   "version": "3.9.7"
  }
 },
 "nbformat": 4,
 "nbformat_minor": 2
}
