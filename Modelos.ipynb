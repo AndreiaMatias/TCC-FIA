{
 "cells": [
  {
   "cell_type": "markdown",
   "id": "bb1c2d8e",
   "metadata": {},
   "source": [
    "<h1>Modelos</h1>"
   ]
  },
  {
   "cell_type": "code",
   "execution_count": 1,
   "id": "c6388cdb",
   "metadata": {},
   "outputs": [],
   "source": [
    "import pandas as pd\n",
    "from sklearn.model_selection import train_test_split\n",
    "from sklearn.linear_model import LogisticRegression\n",
    "\n",
    "base = pd.read_csv(\"base_final.csv\")"
   ]
  },
  {
   "cell_type": "code",
   "execution_count": 2,
   "id": "395a1b83",
   "metadata": {},
   "outputs": [],
   "source": [
    "base_01 = base.drop(['Nota do Consumidor'], axis=1).copy()"
   ]
  },
  {
   "cell_type": "code",
   "execution_count": 3,
   "id": "5b3dbb29",
   "metadata": {},
   "outputs": [],
   "source": [
    "base.drop(['Data Finalização', 'Respondida', 'Situação', 'Avaliação Reclamação', 'Nota do Consumidor'], axis=1, inplace=True)"
   ]
  },
  {
   "cell_type": "code",
   "execution_count": 4,
   "id": "00ca1731",
   "metadata": {},
   "outputs": [
    {
     "data": {
      "text/html": [
       "<div>\n",
       "<style scoped>\n",
       "    .dataframe tbody tr th:only-of-type {\n",
       "        vertical-align: middle;\n",
       "    }\n",
       "\n",
       "    .dataframe tbody tr th {\n",
       "        vertical-align: top;\n",
       "    }\n",
       "\n",
       "    .dataframe thead th {\n",
       "        text-align: right;\n",
       "    }\n",
       "</style>\n",
       "<table border=\"1\" class=\"dataframe\">\n",
       "  <thead>\n",
       "    <tr style=\"text-align: right;\">\n",
       "      <th></th>\n",
       "      <th>Região</th>\n",
       "      <th>UF</th>\n",
       "      <th>Cidade</th>\n",
       "      <th>Sexo</th>\n",
       "      <th>Faixa Etária</th>\n",
       "      <th>Tempo Resposta</th>\n",
       "      <th>Assunto</th>\n",
       "      <th>Grupo Problema</th>\n",
       "      <th>Problema</th>\n",
       "      <th>Como Comprou Contratou</th>\n",
       "      <th>Procurou Empresa</th>\n",
       "      <th>nota insatisfatória</th>\n",
       "    </tr>\n",
       "  </thead>\n",
       "  <tbody>\n",
       "    <tr>\n",
       "      <th>0</th>\n",
       "      <td>S</td>\n",
       "      <td>PR</td>\n",
       "      <td>Foz do Iguaçu</td>\n",
       "      <td>M</td>\n",
       "      <td>entre 31 a 40 anos</td>\n",
       "      <td>10</td>\n",
       "      <td>Conta corrente / Salário / Poupança /Conta Apo...</td>\n",
       "      <td>Cobrança / Contestação</td>\n",
       "      <td>Cobrança por serviço/produto não contratado / ...</td>\n",
       "      <td>Loja física</td>\n",
       "      <td>S</td>\n",
       "      <td>0</td>\n",
       "    </tr>\n",
       "    <tr>\n",
       "      <th>1</th>\n",
       "      <td>S</td>\n",
       "      <td>PR</td>\n",
       "      <td>Curitiba</td>\n",
       "      <td>F</td>\n",
       "      <td>entre 41 a 50 anos</td>\n",
       "      <td>9</td>\n",
       "      <td>Crédito Pessoal e Demais Empréstimos (exceto f...</td>\n",
       "      <td>Cobrança / Contestação</td>\n",
       "      <td>Cálculo de juros, saldo devedor (contestação, ...</td>\n",
       "      <td>Loja física</td>\n",
       "      <td>S</td>\n",
       "      <td>0</td>\n",
       "    </tr>\n",
       "    <tr>\n",
       "      <th>2</th>\n",
       "      <td>S</td>\n",
       "      <td>PR</td>\n",
       "      <td>Cruz Machado</td>\n",
       "      <td>M</td>\n",
       "      <td>entre 41 a 50 anos</td>\n",
       "      <td>9</td>\n",
       "      <td>Crédito Pessoal e Demais Empréstimos (exceto f...</td>\n",
       "      <td>Cobrança / Contestação</td>\n",
       "      <td>Renegociação / parcelamento de dívida</td>\n",
       "      <td>Não comprei / contratei</td>\n",
       "      <td>S</td>\n",
       "      <td>1</td>\n",
       "    </tr>\n",
       "    <tr>\n",
       "      <th>3</th>\n",
       "      <td>S</td>\n",
       "      <td>PR</td>\n",
       "      <td>Curitiba</td>\n",
       "      <td>M</td>\n",
       "      <td>entre 51 a 60 anos</td>\n",
       "      <td>8</td>\n",
       "      <td>Crédito Pessoal e Demais Empréstimos (exceto f...</td>\n",
       "      <td>Cobrança / Contestação</td>\n",
       "      <td>Cálculo de juros, saldo devedor (contestação, ...</td>\n",
       "      <td>Loja física</td>\n",
       "      <td>S</td>\n",
       "      <td>1</td>\n",
       "    </tr>\n",
       "    <tr>\n",
       "      <th>4</th>\n",
       "      <td>S</td>\n",
       "      <td>PR</td>\n",
       "      <td>São José dos Pinhais</td>\n",
       "      <td>M</td>\n",
       "      <td>entre 31 a 40 anos</td>\n",
       "      <td>8</td>\n",
       "      <td>Crédito Pessoal e Demais Empréstimos (exceto f...</td>\n",
       "      <td>Cobrança / Contestação</td>\n",
       "      <td>Cálculo de juros, saldo devedor (contestação, ...</td>\n",
       "      <td>Internet</td>\n",
       "      <td>S</td>\n",
       "      <td>1</td>\n",
       "    </tr>\n",
       "    <tr>\n",
       "      <th>...</th>\n",
       "      <td>...</td>\n",
       "      <td>...</td>\n",
       "      <td>...</td>\n",
       "      <td>...</td>\n",
       "      <td>...</td>\n",
       "      <td>...</td>\n",
       "      <td>...</td>\n",
       "      <td>...</td>\n",
       "      <td>...</td>\n",
       "      <td>...</td>\n",
       "      <td>...</td>\n",
       "      <td>...</td>\n",
       "    </tr>\n",
       "    <tr>\n",
       "      <th>18882</th>\n",
       "      <td>SE</td>\n",
       "      <td>RJ</td>\n",
       "      <td>Campos dos Goytacazes</td>\n",
       "      <td>F</td>\n",
       "      <td>entre 21 a 30 anos</td>\n",
       "      <td>6</td>\n",
       "      <td>Cartão de Crédito / Cartão de Débito / Cartão ...</td>\n",
       "      <td>Atendimento / SAC</td>\n",
       "      <td>SAC - Demanda não resolvida / não respondida /...</td>\n",
       "      <td>Não comprei / contratei</td>\n",
       "      <td>S</td>\n",
       "      <td>1</td>\n",
       "    </tr>\n",
       "    <tr>\n",
       "      <th>18883</th>\n",
       "      <td>SE</td>\n",
       "      <td>MG</td>\n",
       "      <td>Belo Horizonte</td>\n",
       "      <td>F</td>\n",
       "      <td>entre 31 a 40 anos</td>\n",
       "      <td>8</td>\n",
       "      <td>Atendimento Bancário</td>\n",
       "      <td>Saúde e Segurança</td>\n",
       "      <td>Risco, dano físico ou mal estar decorrente da ...</td>\n",
       "      <td>Loja física</td>\n",
       "      <td>S</td>\n",
       "      <td>0</td>\n",
       "    </tr>\n",
       "    <tr>\n",
       "      <th>18884</th>\n",
       "      <td>CO</td>\n",
       "      <td>DF</td>\n",
       "      <td>Brasília</td>\n",
       "      <td>M</td>\n",
       "      <td>entre 31 a 40 anos</td>\n",
       "      <td>5</td>\n",
       "      <td>Cartão de Crédito / Cartão de Débito / Cartão ...</td>\n",
       "      <td>Atendimento / SAC</td>\n",
       "      <td>SAC - Dificuldadede de contato / acesso</td>\n",
       "      <td>Internet</td>\n",
       "      <td>S</td>\n",
       "      <td>0</td>\n",
       "    </tr>\n",
       "    <tr>\n",
       "      <th>18885</th>\n",
       "      <td>SE</td>\n",
       "      <td>SP</td>\n",
       "      <td>Embu das Artes</td>\n",
       "      <td>M</td>\n",
       "      <td>entre 31 a 40 anos</td>\n",
       "      <td>10</td>\n",
       "      <td>Conta corrente / Salário / Poupança /Conta Apo...</td>\n",
       "      <td>Cobrança / Contestação</td>\n",
       "      <td>Cobrança de tarifas, taxas, valores não previs...</td>\n",
       "      <td>Loja física</td>\n",
       "      <td>S</td>\n",
       "      <td>1</td>\n",
       "    </tr>\n",
       "    <tr>\n",
       "      <th>18886</th>\n",
       "      <td>SE</td>\n",
       "      <td>SP</td>\n",
       "      <td>Araçatuba</td>\n",
       "      <td>M</td>\n",
       "      <td>entre 41 a 50 anos</td>\n",
       "      <td>5</td>\n",
       "      <td>Conta corrente / Salário / Poupança /Conta Apo...</td>\n",
       "      <td>Contrato / Oferta</td>\n",
       "      <td>Oferta não cumprida / serviço não fornecido/ v...</td>\n",
       "      <td>Internet</td>\n",
       "      <td>S</td>\n",
       "      <td>0</td>\n",
       "    </tr>\n",
       "  </tbody>\n",
       "</table>\n",
       "<p>18887 rows × 12 columns</p>\n",
       "</div>"
      ],
      "text/plain": [
       "      Região  UF                 Cidade Sexo        Faixa Etária  \\\n",
       "0         S   PR          Foz do Iguaçu    M  entre 31 a 40 anos   \n",
       "1         S   PR               Curitiba    F  entre 41 a 50 anos   \n",
       "2         S   PR           Cruz Machado    M  entre 41 a 50 anos   \n",
       "3         S   PR               Curitiba    M  entre 51 a 60 anos   \n",
       "4         S   PR   São José dos Pinhais    M  entre 31 a 40 anos   \n",
       "...      ...  ..                    ...  ...                 ...   \n",
       "18882     SE  RJ  Campos dos Goytacazes    F  entre 21 a 30 anos   \n",
       "18883     SE  MG         Belo Horizonte    F  entre 31 a 40 anos   \n",
       "18884     CO  DF               Brasília    M  entre 31 a 40 anos   \n",
       "18885     SE  SP         Embu das Artes    M  entre 31 a 40 anos   \n",
       "18886     SE  SP              Araçatuba    M  entre 41 a 50 anos   \n",
       "\n",
       "       Tempo Resposta                                            Assunto  \\\n",
       "0                  10  Conta corrente / Salário / Poupança /Conta Apo...   \n",
       "1                   9  Crédito Pessoal e Demais Empréstimos (exceto f...   \n",
       "2                   9  Crédito Pessoal e Demais Empréstimos (exceto f...   \n",
       "3                   8  Crédito Pessoal e Demais Empréstimos (exceto f...   \n",
       "4                   8  Crédito Pessoal e Demais Empréstimos (exceto f...   \n",
       "...               ...                                                ...   \n",
       "18882               6  Cartão de Crédito / Cartão de Débito / Cartão ...   \n",
       "18883               8                               Atendimento Bancário   \n",
       "18884               5  Cartão de Crédito / Cartão de Débito / Cartão ...   \n",
       "18885              10  Conta corrente / Salário / Poupança /Conta Apo...   \n",
       "18886               5  Conta corrente / Salário / Poupança /Conta Apo...   \n",
       "\n",
       "               Grupo Problema  \\\n",
       "0      Cobrança / Contestação   \n",
       "1      Cobrança / Contestação   \n",
       "2      Cobrança / Contestação   \n",
       "3      Cobrança / Contestação   \n",
       "4      Cobrança / Contestação   \n",
       "...                       ...   \n",
       "18882       Atendimento / SAC   \n",
       "18883       Saúde e Segurança   \n",
       "18884       Atendimento / SAC   \n",
       "18885  Cobrança / Contestação   \n",
       "18886       Contrato / Oferta   \n",
       "\n",
       "                                                Problema  \\\n",
       "0      Cobrança por serviço/produto não contratado / ...   \n",
       "1      Cálculo de juros, saldo devedor (contestação, ...   \n",
       "2                  Renegociação / parcelamento de dívida   \n",
       "3      Cálculo de juros, saldo devedor (contestação, ...   \n",
       "4      Cálculo de juros, saldo devedor (contestação, ...   \n",
       "...                                                  ...   \n",
       "18882  SAC - Demanda não resolvida / não respondida /...   \n",
       "18883  Risco, dano físico ou mal estar decorrente da ...   \n",
       "18884            SAC - Dificuldadede de contato / acesso   \n",
       "18885  Cobrança de tarifas, taxas, valores não previs...   \n",
       "18886  Oferta não cumprida / serviço não fornecido/ v...   \n",
       "\n",
       "        Como Comprou Contratou Procurou Empresa  nota insatisfatória  \n",
       "0                  Loja física                S                    0  \n",
       "1                  Loja física                S                    0  \n",
       "2      Não comprei / contratei                S                    1  \n",
       "3                  Loja física                S                    1  \n",
       "4                     Internet                S                    1  \n",
       "...                        ...              ...                  ...  \n",
       "18882  Não comprei / contratei                S                    1  \n",
       "18883              Loja física                S                    0  \n",
       "18884                 Internet                S                    0  \n",
       "18885              Loja física                S                    1  \n",
       "18886                 Internet                S                    0  \n",
       "\n",
       "[18887 rows x 12 columns]"
      ]
     },
     "execution_count": 4,
     "metadata": {},
     "output_type": "execute_result"
    }
   ],
   "source": [
    "base"
   ]
  },
  {
   "cell_type": "code",
   "execution_count": 5,
   "id": "51c46b64",
   "metadata": {},
   "outputs": [
    {
     "data": {
      "text/plain": [
       "Index(['Região', 'UF', 'Cidade', 'Sexo', 'Faixa Etária', 'Tempo Resposta',\n",
       "       'Assunto', 'Grupo Problema', 'Problema', 'Como Comprou Contratou',\n",
       "       'Procurou Empresa', 'nota insatisfatória'],\n",
       "      dtype='object')"
      ]
     },
     "execution_count": 5,
     "metadata": {},
     "output_type": "execute_result"
    }
   ],
   "source": [
    "base.columns"
   ]
  },
  {
   "cell_type": "code",
   "execution_count": 6,
   "id": "f2ddd0bd",
   "metadata": {},
   "outputs": [],
   "source": [
    "categoricas = ['Sexo', 'Faixa Etária', 'Tempo Resposta', 'Procurou Empresa']\n",
    "X = base.filter(categoricas).copy()\n",
    "y = base['nota insatisfatória'].copy()"
   ]
  },
  {
   "cell_type": "code",
   "execution_count": 7,
   "id": "f2a3ec76",
   "metadata": {},
   "outputs": [],
   "source": [
    "X_train, X_test, y_train, y_test = train_test_split(X, y, test_size=0.25, stratify=y)"
   ]
  },
  {
   "cell_type": "code",
   "execution_count": 8,
   "id": "4ad38e85",
   "metadata": {},
   "outputs": [
    {
     "data": {
      "text/html": [
       "<div>\n",
       "<style scoped>\n",
       "    .dataframe tbody tr th:only-of-type {\n",
       "        vertical-align: middle;\n",
       "    }\n",
       "\n",
       "    .dataframe tbody tr th {\n",
       "        vertical-align: top;\n",
       "    }\n",
       "\n",
       "    .dataframe thead th {\n",
       "        text-align: right;\n",
       "    }\n",
       "</style>\n",
       "<table border=\"1\" class=\"dataframe\">\n",
       "  <thead>\n",
       "    <tr style=\"text-align: right;\">\n",
       "      <th></th>\n",
       "      <th>Tempo Resposta</th>\n",
       "      <th>Sexo_F</th>\n",
       "      <th>Sexo_M</th>\n",
       "      <th>Faixa Etária_até 20 anos</th>\n",
       "      <th>Faixa Etária_entre 21 a 30 anos</th>\n",
       "      <th>Faixa Etária_entre 31 a 40 anos</th>\n",
       "      <th>Faixa Etária_entre 41 a 50 anos</th>\n",
       "      <th>Faixa Etária_entre 51 a 60 anos</th>\n",
       "      <th>Faixa Etária_entre 61 a 70 anos</th>\n",
       "      <th>Faixa Etária_mais de 70 anos</th>\n",
       "      <th>Procurou Empresa_N</th>\n",
       "      <th>Procurou Empresa_S</th>\n",
       "    </tr>\n",
       "  </thead>\n",
       "  <tbody>\n",
       "    <tr>\n",
       "      <th>17103</th>\n",
       "      <td>7</td>\n",
       "      <td>0</td>\n",
       "      <td>1</td>\n",
       "      <td>0</td>\n",
       "      <td>0</td>\n",
       "      <td>1</td>\n",
       "      <td>0</td>\n",
       "      <td>0</td>\n",
       "      <td>0</td>\n",
       "      <td>0</td>\n",
       "      <td>0</td>\n",
       "      <td>1</td>\n",
       "    </tr>\n",
       "    <tr>\n",
       "      <th>3518</th>\n",
       "      <td>3</td>\n",
       "      <td>0</td>\n",
       "      <td>1</td>\n",
       "      <td>0</td>\n",
       "      <td>0</td>\n",
       "      <td>0</td>\n",
       "      <td>0</td>\n",
       "      <td>1</td>\n",
       "      <td>0</td>\n",
       "      <td>0</td>\n",
       "      <td>0</td>\n",
       "      <td>1</td>\n",
       "    </tr>\n",
       "    <tr>\n",
       "      <th>11979</th>\n",
       "      <td>4</td>\n",
       "      <td>0</td>\n",
       "      <td>1</td>\n",
       "      <td>0</td>\n",
       "      <td>0</td>\n",
       "      <td>0</td>\n",
       "      <td>1</td>\n",
       "      <td>0</td>\n",
       "      <td>0</td>\n",
       "      <td>0</td>\n",
       "      <td>0</td>\n",
       "      <td>1</td>\n",
       "    </tr>\n",
       "    <tr>\n",
       "      <th>7622</th>\n",
       "      <td>2</td>\n",
       "      <td>1</td>\n",
       "      <td>0</td>\n",
       "      <td>0</td>\n",
       "      <td>0</td>\n",
       "      <td>0</td>\n",
       "      <td>1</td>\n",
       "      <td>0</td>\n",
       "      <td>0</td>\n",
       "      <td>0</td>\n",
       "      <td>0</td>\n",
       "      <td>1</td>\n",
       "    </tr>\n",
       "    <tr>\n",
       "      <th>11544</th>\n",
       "      <td>8</td>\n",
       "      <td>0</td>\n",
       "      <td>1</td>\n",
       "      <td>0</td>\n",
       "      <td>1</td>\n",
       "      <td>0</td>\n",
       "      <td>0</td>\n",
       "      <td>0</td>\n",
       "      <td>0</td>\n",
       "      <td>0</td>\n",
       "      <td>0</td>\n",
       "      <td>1</td>\n",
       "    </tr>\n",
       "    <tr>\n",
       "      <th>...</th>\n",
       "      <td>...</td>\n",
       "      <td>...</td>\n",
       "      <td>...</td>\n",
       "      <td>...</td>\n",
       "      <td>...</td>\n",
       "      <td>...</td>\n",
       "      <td>...</td>\n",
       "      <td>...</td>\n",
       "      <td>...</td>\n",
       "      <td>...</td>\n",
       "      <td>...</td>\n",
       "      <td>...</td>\n",
       "    </tr>\n",
       "    <tr>\n",
       "      <th>2843</th>\n",
       "      <td>9</td>\n",
       "      <td>1</td>\n",
       "      <td>0</td>\n",
       "      <td>0</td>\n",
       "      <td>0</td>\n",
       "      <td>1</td>\n",
       "      <td>0</td>\n",
       "      <td>0</td>\n",
       "      <td>0</td>\n",
       "      <td>0</td>\n",
       "      <td>0</td>\n",
       "      <td>1</td>\n",
       "    </tr>\n",
       "    <tr>\n",
       "      <th>15969</th>\n",
       "      <td>7</td>\n",
       "      <td>0</td>\n",
       "      <td>1</td>\n",
       "      <td>0</td>\n",
       "      <td>0</td>\n",
       "      <td>1</td>\n",
       "      <td>0</td>\n",
       "      <td>0</td>\n",
       "      <td>0</td>\n",
       "      <td>0</td>\n",
       "      <td>1</td>\n",
       "      <td>0</td>\n",
       "    </tr>\n",
       "    <tr>\n",
       "      <th>9686</th>\n",
       "      <td>10</td>\n",
       "      <td>1</td>\n",
       "      <td>0</td>\n",
       "      <td>0</td>\n",
       "      <td>0</td>\n",
       "      <td>0</td>\n",
       "      <td>0</td>\n",
       "      <td>0</td>\n",
       "      <td>1</td>\n",
       "      <td>0</td>\n",
       "      <td>0</td>\n",
       "      <td>1</td>\n",
       "    </tr>\n",
       "    <tr>\n",
       "      <th>452</th>\n",
       "      <td>7</td>\n",
       "      <td>0</td>\n",
       "      <td>1</td>\n",
       "      <td>0</td>\n",
       "      <td>0</td>\n",
       "      <td>0</td>\n",
       "      <td>0</td>\n",
       "      <td>0</td>\n",
       "      <td>0</td>\n",
       "      <td>1</td>\n",
       "      <td>1</td>\n",
       "      <td>0</td>\n",
       "    </tr>\n",
       "    <tr>\n",
       "      <th>10145</th>\n",
       "      <td>5</td>\n",
       "      <td>0</td>\n",
       "      <td>1</td>\n",
       "      <td>0</td>\n",
       "      <td>0</td>\n",
       "      <td>1</td>\n",
       "      <td>0</td>\n",
       "      <td>0</td>\n",
       "      <td>0</td>\n",
       "      <td>0</td>\n",
       "      <td>0</td>\n",
       "      <td>1</td>\n",
       "    </tr>\n",
       "  </tbody>\n",
       "</table>\n",
       "<p>14165 rows × 12 columns</p>\n",
       "</div>"
      ],
      "text/plain": [
       "       Tempo Resposta  Sexo_F  Sexo_M  Faixa Etária_até 20 anos  \\\n",
       "17103               7       0       1                         0   \n",
       "3518                3       0       1                         0   \n",
       "11979               4       0       1                         0   \n",
       "7622                2       1       0                         0   \n",
       "11544               8       0       1                         0   \n",
       "...               ...     ...     ...                       ...   \n",
       "2843                9       1       0                         0   \n",
       "15969               7       0       1                         0   \n",
       "9686               10       1       0                         0   \n",
       "452                 7       0       1                         0   \n",
       "10145               5       0       1                         0   \n",
       "\n",
       "       Faixa Etária_entre 21 a 30 anos  Faixa Etária_entre 31 a 40 anos  \\\n",
       "17103                                0                                1   \n",
       "3518                                 0                                0   \n",
       "11979                                0                                0   \n",
       "7622                                 0                                0   \n",
       "11544                                1                                0   \n",
       "...                                ...                              ...   \n",
       "2843                                 0                                1   \n",
       "15969                                0                                1   \n",
       "9686                                 0                                0   \n",
       "452                                  0                                0   \n",
       "10145                                0                                1   \n",
       "\n",
       "       Faixa Etária_entre 41 a 50 anos  Faixa Etária_entre 51 a 60 anos  \\\n",
       "17103                                0                                0   \n",
       "3518                                 0                                1   \n",
       "11979                                1                                0   \n",
       "7622                                 1                                0   \n",
       "11544                                0                                0   \n",
       "...                                ...                              ...   \n",
       "2843                                 0                                0   \n",
       "15969                                0                                0   \n",
       "9686                                 0                                0   \n",
       "452                                  0                                0   \n",
       "10145                                0                                0   \n",
       "\n",
       "       Faixa Etária_entre 61 a 70 anos  Faixa Etária_mais de 70 anos  \\\n",
       "17103                                0                             0   \n",
       "3518                                 0                             0   \n",
       "11979                                0                             0   \n",
       "7622                                 0                             0   \n",
       "11544                                0                             0   \n",
       "...                                ...                           ...   \n",
       "2843                                 0                             0   \n",
       "15969                                0                             0   \n",
       "9686                                 1                             0   \n",
       "452                                  0                             1   \n",
       "10145                                0                             0   \n",
       "\n",
       "       Procurou Empresa_N  Procurou Empresa_S  \n",
       "17103                   0                   1  \n",
       "3518                    0                   1  \n",
       "11979                   0                   1  \n",
       "7622                    0                   1  \n",
       "11544                   0                   1  \n",
       "...                   ...                 ...  \n",
       "2843                    0                   1  \n",
       "15969                   1                   0  \n",
       "9686                    0                   1  \n",
       "452                     1                   0  \n",
       "10145                   0                   1  \n",
       "\n",
       "[14165 rows x 12 columns]"
      ]
     },
     "execution_count": 8,
     "metadata": {},
     "output_type": "execute_result"
    }
   ],
   "source": [
    "X_train_n = pd.get_dummies(X_train)\n",
    "X_train_n"
   ]
  },
  {
   "cell_type": "code",
   "execution_count": 9,
   "id": "80698943",
   "metadata": {},
   "outputs": [
    {
     "data": {
      "text/html": [
       "<div>\n",
       "<style scoped>\n",
       "    .dataframe tbody tr th:only-of-type {\n",
       "        vertical-align: middle;\n",
       "    }\n",
       "\n",
       "    .dataframe tbody tr th {\n",
       "        vertical-align: top;\n",
       "    }\n",
       "\n",
       "    .dataframe thead th {\n",
       "        text-align: right;\n",
       "    }\n",
       "</style>\n",
       "<table border=\"1\" class=\"dataframe\">\n",
       "  <thead>\n",
       "    <tr style=\"text-align: right;\">\n",
       "      <th></th>\n",
       "      <th>Tempo Resposta</th>\n",
       "      <th>Sexo_F</th>\n",
       "      <th>Sexo_M</th>\n",
       "      <th>Faixa Etária_até 20 anos</th>\n",
       "      <th>Faixa Etária_entre 21 a 30 anos</th>\n",
       "      <th>Faixa Etária_entre 31 a 40 anos</th>\n",
       "      <th>Faixa Etária_entre 41 a 50 anos</th>\n",
       "      <th>Faixa Etária_entre 51 a 60 anos</th>\n",
       "      <th>Faixa Etária_entre 61 a 70 anos</th>\n",
       "      <th>Faixa Etária_mais de 70 anos</th>\n",
       "      <th>Procurou Empresa_N</th>\n",
       "      <th>Procurou Empresa_S</th>\n",
       "    </tr>\n",
       "  </thead>\n",
       "  <tbody>\n",
       "    <tr>\n",
       "      <th>12623</th>\n",
       "      <td>10</td>\n",
       "      <td>0</td>\n",
       "      <td>1</td>\n",
       "      <td>0</td>\n",
       "      <td>1</td>\n",
       "      <td>0</td>\n",
       "      <td>0</td>\n",
       "      <td>0</td>\n",
       "      <td>0</td>\n",
       "      <td>0</td>\n",
       "      <td>0</td>\n",
       "      <td>1</td>\n",
       "    </tr>\n",
       "    <tr>\n",
       "      <th>14989</th>\n",
       "      <td>4</td>\n",
       "      <td>1</td>\n",
       "      <td>0</td>\n",
       "      <td>0</td>\n",
       "      <td>1</td>\n",
       "      <td>0</td>\n",
       "      <td>0</td>\n",
       "      <td>0</td>\n",
       "      <td>0</td>\n",
       "      <td>0</td>\n",
       "      <td>0</td>\n",
       "      <td>1</td>\n",
       "    </tr>\n",
       "    <tr>\n",
       "      <th>3795</th>\n",
       "      <td>10</td>\n",
       "      <td>1</td>\n",
       "      <td>0</td>\n",
       "      <td>0</td>\n",
       "      <td>0</td>\n",
       "      <td>1</td>\n",
       "      <td>0</td>\n",
       "      <td>0</td>\n",
       "      <td>0</td>\n",
       "      <td>0</td>\n",
       "      <td>0</td>\n",
       "      <td>1</td>\n",
       "    </tr>\n",
       "    <tr>\n",
       "      <th>11676</th>\n",
       "      <td>7</td>\n",
       "      <td>0</td>\n",
       "      <td>1</td>\n",
       "      <td>0</td>\n",
       "      <td>1</td>\n",
       "      <td>0</td>\n",
       "      <td>0</td>\n",
       "      <td>0</td>\n",
       "      <td>0</td>\n",
       "      <td>0</td>\n",
       "      <td>0</td>\n",
       "      <td>1</td>\n",
       "    </tr>\n",
       "    <tr>\n",
       "      <th>10951</th>\n",
       "      <td>8</td>\n",
       "      <td>1</td>\n",
       "      <td>0</td>\n",
       "      <td>0</td>\n",
       "      <td>0</td>\n",
       "      <td>0</td>\n",
       "      <td>0</td>\n",
       "      <td>0</td>\n",
       "      <td>1</td>\n",
       "      <td>0</td>\n",
       "      <td>0</td>\n",
       "      <td>1</td>\n",
       "    </tr>\n",
       "    <tr>\n",
       "      <th>...</th>\n",
       "      <td>...</td>\n",
       "      <td>...</td>\n",
       "      <td>...</td>\n",
       "      <td>...</td>\n",
       "      <td>...</td>\n",
       "      <td>...</td>\n",
       "      <td>...</td>\n",
       "      <td>...</td>\n",
       "      <td>...</td>\n",
       "      <td>...</td>\n",
       "      <td>...</td>\n",
       "      <td>...</td>\n",
       "    </tr>\n",
       "    <tr>\n",
       "      <th>293</th>\n",
       "      <td>7</td>\n",
       "      <td>0</td>\n",
       "      <td>1</td>\n",
       "      <td>0</td>\n",
       "      <td>0</td>\n",
       "      <td>1</td>\n",
       "      <td>0</td>\n",
       "      <td>0</td>\n",
       "      <td>0</td>\n",
       "      <td>0</td>\n",
       "      <td>0</td>\n",
       "      <td>1</td>\n",
       "    </tr>\n",
       "    <tr>\n",
       "      <th>16586</th>\n",
       "      <td>7</td>\n",
       "      <td>0</td>\n",
       "      <td>1</td>\n",
       "      <td>0</td>\n",
       "      <td>0</td>\n",
       "      <td>0</td>\n",
       "      <td>1</td>\n",
       "      <td>0</td>\n",
       "      <td>0</td>\n",
       "      <td>0</td>\n",
       "      <td>0</td>\n",
       "      <td>1</td>\n",
       "    </tr>\n",
       "    <tr>\n",
       "      <th>8534</th>\n",
       "      <td>10</td>\n",
       "      <td>0</td>\n",
       "      <td>1</td>\n",
       "      <td>0</td>\n",
       "      <td>0</td>\n",
       "      <td>1</td>\n",
       "      <td>0</td>\n",
       "      <td>0</td>\n",
       "      <td>0</td>\n",
       "      <td>0</td>\n",
       "      <td>0</td>\n",
       "      <td>1</td>\n",
       "    </tr>\n",
       "    <tr>\n",
       "      <th>957</th>\n",
       "      <td>7</td>\n",
       "      <td>1</td>\n",
       "      <td>0</td>\n",
       "      <td>0</td>\n",
       "      <td>0</td>\n",
       "      <td>0</td>\n",
       "      <td>0</td>\n",
       "      <td>1</td>\n",
       "      <td>0</td>\n",
       "      <td>0</td>\n",
       "      <td>0</td>\n",
       "      <td>1</td>\n",
       "    </tr>\n",
       "    <tr>\n",
       "      <th>17591</th>\n",
       "      <td>2</td>\n",
       "      <td>1</td>\n",
       "      <td>0</td>\n",
       "      <td>0</td>\n",
       "      <td>0</td>\n",
       "      <td>0</td>\n",
       "      <td>1</td>\n",
       "      <td>0</td>\n",
       "      <td>0</td>\n",
       "      <td>0</td>\n",
       "      <td>0</td>\n",
       "      <td>1</td>\n",
       "    </tr>\n",
       "  </tbody>\n",
       "</table>\n",
       "<p>4722 rows × 12 columns</p>\n",
       "</div>"
      ],
      "text/plain": [
       "       Tempo Resposta  Sexo_F  Sexo_M  Faixa Etária_até 20 anos  \\\n",
       "12623              10       0       1                         0   \n",
       "14989               4       1       0                         0   \n",
       "3795               10       1       0                         0   \n",
       "11676               7       0       1                         0   \n",
       "10951               8       1       0                         0   \n",
       "...               ...     ...     ...                       ...   \n",
       "293                 7       0       1                         0   \n",
       "16586               7       0       1                         0   \n",
       "8534               10       0       1                         0   \n",
       "957                 7       1       0                         0   \n",
       "17591               2       1       0                         0   \n",
       "\n",
       "       Faixa Etária_entre 21 a 30 anos  Faixa Etária_entre 31 a 40 anos  \\\n",
       "12623                                1                                0   \n",
       "14989                                1                                0   \n",
       "3795                                 0                                1   \n",
       "11676                                1                                0   \n",
       "10951                                0                                0   \n",
       "...                                ...                              ...   \n",
       "293                                  0                                1   \n",
       "16586                                0                                0   \n",
       "8534                                 0                                1   \n",
       "957                                  0                                0   \n",
       "17591                                0                                0   \n",
       "\n",
       "       Faixa Etária_entre 41 a 50 anos  Faixa Etária_entre 51 a 60 anos  \\\n",
       "12623                                0                                0   \n",
       "14989                                0                                0   \n",
       "3795                                 0                                0   \n",
       "11676                                0                                0   \n",
       "10951                                0                                0   \n",
       "...                                ...                              ...   \n",
       "293                                  0                                0   \n",
       "16586                                1                                0   \n",
       "8534                                 0                                0   \n",
       "957                                  0                                1   \n",
       "17591                                1                                0   \n",
       "\n",
       "       Faixa Etária_entre 61 a 70 anos  Faixa Etária_mais de 70 anos  \\\n",
       "12623                                0                             0   \n",
       "14989                                0                             0   \n",
       "3795                                 0                             0   \n",
       "11676                                0                             0   \n",
       "10951                                1                             0   \n",
       "...                                ...                           ...   \n",
       "293                                  0                             0   \n",
       "16586                                0                             0   \n",
       "8534                                 0                             0   \n",
       "957                                  0                             0   \n",
       "17591                                0                             0   \n",
       "\n",
       "       Procurou Empresa_N  Procurou Empresa_S  \n",
       "12623                   0                   1  \n",
       "14989                   0                   1  \n",
       "3795                    0                   1  \n",
       "11676                   0                   1  \n",
       "10951                   0                   1  \n",
       "...                   ...                 ...  \n",
       "293                     0                   1  \n",
       "16586                   0                   1  \n",
       "8534                    0                   1  \n",
       "957                     0                   1  \n",
       "17591                   0                   1  \n",
       "\n",
       "[4722 rows x 12 columns]"
      ]
     },
     "execution_count": 9,
     "metadata": {},
     "output_type": "execute_result"
    }
   ],
   "source": [
    "X_test_n = pd.get_dummies(X_test)\n",
    "X_test_n"
   ]
  },
  {
   "cell_type": "markdown",
   "id": "c6b20048",
   "metadata": {},
   "source": [
    "<h2>Random Forest</h2>"
   ]
  },
  {
   "cell_type": "code",
   "execution_count": 10,
   "id": "7186fff9",
   "metadata": {},
   "outputs": [],
   "source": [
    "from sklearn.ensemble import RandomForestClassifier\n",
    "from sklearn.metrics import accuracy_score\n",
    "\n",
    "\n",
    "rf = RandomForestClassifier(n_estimators=500, n_jobs=-1, oob_score=True)\n"
   ]
  },
  {
   "cell_type": "code",
   "execution_count": 11,
   "id": "a8bff0ce",
   "metadata": {},
   "outputs": [
    {
     "data": {
      "text/plain": [
       "RandomForestClassifier(n_estimators=500, n_jobs=-1, oob_score=True)"
      ]
     },
     "execution_count": 11,
     "metadata": {},
     "output_type": "execute_result"
    }
   ],
   "source": [
    "rf.fit(X_train_n, y_train)\n"
   ]
  },
  {
   "cell_type": "code",
   "execution_count": 12,
   "id": "cacfda25",
   "metadata": {},
   "outputs": [],
   "source": [
    "y_pred = rf.predict(X_test_n)\n"
   ]
  },
  {
   "cell_type": "code",
   "execution_count": 13,
   "id": "049f2c43",
   "metadata": {},
   "outputs": [
    {
     "data": {
      "image/png": "[encoded data removed]",
      "text/plain": [
       "<Figure size 432x288 with 2 Axes>"
      ]
     },
     "metadata": {
      "needs_background": "light"
     },
     "output_type": "display_data"
    }
   ],
   "source": [
    "from sklearn.metrics import plot_confusion_matrix\n",
    "\n",
    "plot_confusion_matrix(rf, X_test_n, y_test, values_format='d');"
   ]
  },
  {
   "cell_type": "code",
   "execution_count": 14,
   "id": "213f8644",
   "metadata": {},
   "outputs": [
    {
     "name": "stdout",
     "output_type": "stream",
     "text": [
      "Feature: Tempo Resposta, Score: 0.46370\n",
      "Feature: Sexo_F, Score: 0.02213\n",
      "Feature: Sexo_M, Score: 0.02175\n",
      "Feature: Faixa Etária_até 20 anos, Score: 0.02890\n",
      "Feature: Faixa Etária_entre 21 a 30 anos, Score: 0.15604\n",
      "Feature: Faixa Etária_entre 31 a 40 anos, Score: 0.04011\n",
      "Feature: Faixa Etária_entre 41 a 50 anos, Score: 0.04519\n",
      "Feature: Faixa Etária_entre 51 a 60 anos, Score: 0.04069\n",
      "Feature: Faixa Etária_entre 61 a 70 anos, Score: 0.03011\n",
      "Feature: Faixa Etária_mais de 70 anos, Score: 0.01547\n",
      "Feature: Procurou Empresa_N, Score: 0.06938\n",
      "Feature: Procurou Empresa_S, Score: 0.06654\n"
     ]
    }
   ],
   "source": [
    "import numpy as np\n",
    "importances = rf.feature_importances_\n",
    "sorted_indices = np.argsort(importances)[::-1]\n",
    "features = X_train_n.columns\n",
    "# summarize feature importance\n",
    "for i,v in zip(features, importances):\n",
    "\tprint('Feature: %s, Score: %.5f' % (i,v))"
   ]
  },
  {
   "cell_type": "code",
   "execution_count": 15,
   "id": "9756cc75",
   "metadata": {},
   "outputs": [
    {
     "data": {
      "image/png": "[encoded data removed]",
      "text/plain": [
       "<Figure size 432x288 with 1 Axes>"
      ]
     },
     "metadata": {
      "needs_background": "light"
     },
     "output_type": "display_data"
    }
   ],
   "source": [
    "import matplotlib.pyplot as plt\n",
    " \n",
    "plt.title('Feature Importance')\n",
    "plt.bar(range(X_train_n.shape[1]), importances[sorted_indices], align='center')\n",
    "plt.xticks(range(X_train_n.shape[1]), X_train_n.columns[sorted_indices], rotation=90)\n",
    "plt.tight_layout()\n",
    "plt.show()"
   ]
  },
  {
   "cell_type": "code",
   "execution_count": 16,
   "id": "b3745a79",
   "metadata": {},
   "outputs": [
    {
     "name": "stdout",
     "output_type": "stream",
     "text": [
      "RandomForestClassifier 0.6234646336298179\n"
     ]
    }
   ],
   "source": [
    "print(rf.__class__.__name__, accuracy_score(y_test, y_pred))"
   ]
  },
  {
   "cell_type": "code",
   "execution_count": 17,
   "id": "70e30813",
   "metadata": {},
   "outputs": [
    {
     "name": "stdout",
     "output_type": "stream",
     "text": [
      "Acurácia (Treino): 0.6336039534062831\n",
      "Acurácia (Teste): 0.6234646336298179\n",
      "====================================\n",
      "Acurácia Balanceada (Treino): 0.5840262815508717\n",
      "Acurácia Balanceada (Teste): 0.574028521250439\n",
      "====================================\n",
      "Precision (Treino): 0.5635036496350365\n",
      "Precision (Teste): 0.541991341991342\n",
      "====================================\n",
      "Recall (Treino): 0.3431111111111111\n",
      "Recall (Teste): 0.33386666666666664\n",
      "====================================\n",
      "F1-Score (Treino): 0.4265193370165746\n",
      "F1-Score (Teste): 0.41320132013201316\n",
      "====================================\n",
      "ROCAUC (Treino): 0.6550992974238876\n",
      "ROCAUC (Teste): 0.6174493853178784\n"
     ]
    }
   ],
   "source": [
    "from sklearn.metrics import accuracy_score, balanced_accuracy_score, precision_score, recall_score, f1_score, roc_auc_score\n",
    "\n",
    "print(f\"Acurácia (Treino): {accuracy_score(y_train, rf.predict(X_train_n))}\")\n",
    "print(f\"Acurácia (Teste): {accuracy_score(y_test, rf.predict(X_test_n))}\")\n",
    "print(\"====================================\")\n",
    "print(f\"Acurácia Balanceada (Treino): {balanced_accuracy_score(y_train, rf.predict(X_train_n))}\")\n",
    "print(f\"Acurácia Balanceada (Teste): {balanced_accuracy_score(y_test, rf.predict(X_test_n))}\")\n",
    "print(\"====================================\")\n",
    "print(f\"Precision (Treino): {precision_score(y_train, rf.predict(X_train_n))}\")\n",
    "print(f\"Precision (Teste): {precision_score(y_test, rf.predict(X_test_n))}\")\n",
    "print(\"====================================\")\n",
    "print(f\"Recall (Treino): {recall_score(y_train, rf.predict(X_train_n))}\")\n",
    "print(f\"Recall (Teste): {recall_score(y_test, rf.predict(X_test_n))}\")\n",
    "print(\"====================================\")\n",
    "print(f\"F1-Score (Treino): {f1_score(y_train, rf.predict(X_train_n))}\")\n",
    "print(f\"F1-Score (Teste): {f1_score(y_test, rf.predict(X_test_n))}\")\n",
    "print(\"====================================\")\n",
    "print(f\"ROCAUC (Treino): {roc_auc_score(y_train, rf.predict_proba(X_train_n)[:,1])}\")\n",
    "print(f\"ROCAUC (Teste): {roc_auc_score(y_test, rf.predict_proba(X_test_n)[:,1])}\")"
   ]
  },
  {
   "cell_type": "code",
   "execution_count": 18,
   "id": "acdf0fa7",
   "metadata": {},
   "outputs": [
    {
     "data": {
      "image/png": "[encoded data removed]",
      "text/plain": [
       "<Figure size 432x288 with 1 Axes>"
      ]
     },
     "metadata": {
      "needs_background": "light"
     },
     "output_type": "display_data"
    }
   ],
   "source": [
    "from sklearn.metrics import plot_roc_curve\n",
    "\n",
    "plot_roc_curve(rf, X_test_n, y_test);"
   ]
  },
  {
   "cell_type": "markdown",
   "id": "5bc7f7b6",
   "metadata": {},
   "source": [
    "<h2>Gradient Boosting</h2>"
   ]
  },
  {
   "cell_type": "code",
   "execution_count": 19,
   "id": "e047c076",
   "metadata": {},
   "outputs": [],
   "source": [
    "from sklearn.ensemble import GradientBoostingClassifier"
   ]
  },
  {
   "cell_type": "code",
   "execution_count": 20,
   "id": "4d95d0ea",
   "metadata": {},
   "outputs": [],
   "source": [
    "gbt = GradientBoostingClassifier(random_state=42)"
   ]
  },
  {
   "cell_type": "code",
   "execution_count": 21,
   "id": "d8652f58",
   "metadata": {},
   "outputs": [
    {
     "data": {
      "text/plain": [
       "GradientBoostingClassifier(random_state=42)"
      ]
     },
     "execution_count": 21,
     "metadata": {},
     "output_type": "execute_result"
    }
   ],
   "source": [
    "gbt.fit(X_train_n, y_train)"
   ]
  },
  {
   "cell_type": "code",
   "execution_count": 22,
   "id": "578c2526",
   "metadata": {},
   "outputs": [],
   "source": [
    "y_pred = gbt.predict(X_test_n)"
   ]
  },
  {
   "cell_type": "code",
   "execution_count": 23,
   "id": "eb6af66f",
   "metadata": {},
   "outputs": [
    {
     "name": "stdout",
     "output_type": "stream",
     "text": [
      "Feature: Tempo Resposta, Score: 0.32385\n",
      "Feature: Sexo_F, Score: 0.01362\n",
      "Feature: Sexo_M, Score: 0.01513\n",
      "Feature: Faixa Etária_até 20 anos, Score: 0.04379\n",
      "Feature: Faixa Etária_entre 21 a 30 anos, Score: 0.29508\n",
      "Feature: Faixa Etária_entre 31 a 40 anos, Score: 0.06058\n",
      "Feature: Faixa Etária_entre 41 a 50 anos, Score: 0.01775\n",
      "Feature: Faixa Etária_entre 51 a 60 anos, Score: 0.03756\n",
      "Feature: Faixa Etária_entre 61 a 70 anos, Score: 0.02113\n",
      "Feature: Faixa Etária_mais de 70 anos, Score: 0.00740\n",
      "Feature: Procurou Empresa_N, Score: 0.07563\n",
      "Feature: Procurou Empresa_S, Score: 0.08847\n"
     ]
    }
   ],
   "source": [
    "importances = gbt.feature_importances_\n",
    "features = X_train_n.columns\n",
    "sorted_indices = np.argsort(importances)[::-1]\n",
    "# summarize feature importance\n",
    "for i,v in zip(features, importances):\n",
    "\tprint('Feature: %s, Score: %.5f' % (i,v))"
   ]
  },
  {
   "cell_type": "code",
   "execution_count": 24,
   "id": "503033c8",
   "metadata": {},
   "outputs": [
    {
     "data": {
      "image/png": "[encoded data removed]",
      "text/plain": [
       "<Figure size 432x288 with 1 Axes>"
      ]
     },
     "metadata": {
      "needs_background": "light"
     },
     "output_type": "display_data"
    }
   ],
   "source": [
    "plt.title('Feature Importance')\n",
    "plt.bar(range(X_train_n.shape[1]), importances[sorted_indices], align='center')\n",
    "plt.xticks(range(X_train_n.shape[1]), X_train_n.columns[sorted_indices], rotation=90)\n",
    "plt.tight_layout()\n",
    "plt.show()"
   ]
  },
  {
   "cell_type": "code",
   "execution_count": 25,
   "id": "91e26085",
   "metadata": {},
   "outputs": [
    {
     "name": "stdout",
     "output_type": "stream",
     "text": [
      "Acurácia (Treino): 0.6302859159901165\n",
      "Acurácia (Teste): 0.6190173655230834\n",
      "====================================\n",
      "Acurácia Balanceada (Treino): 0.5715654436638044\n",
      "Acurácia Balanceada (Teste): 0.5594152441166139\n",
      "====================================\n",
      "Precision (Treino): 0.568502824858757\n",
      "Precision (Teste): 0.5405982905982906\n",
      "====================================\n",
      "Recall (Treino): 0.2862222222222222\n",
      "Recall (Teste): 0.26986666666666664\n",
      "====================================\n",
      "F1-Score (Treino): 0.38074967482558825\n",
      "F1-Score (Teste): 0.360014229811455\n",
      "====================================\n",
      "ROCAUC (Treino): 0.6458990996617227\n",
      "ROCAUC (Teste): 0.6250965460718887\n"
     ]
    }
   ],
   "source": [
    "print(f\"Acurácia (Treino): {accuracy_score(y_train, gbt.predict(X_train_n))}\")\n",
    "print(f\"Acurácia (Teste): {accuracy_score(y_test, gbt.predict(X_test_n))}\")\n",
    "print(\"====================================\")\n",
    "print(f\"Acurácia Balanceada (Treino): {balanced_accuracy_score(y_train, gbt.predict(X_train_n))}\")\n",
    "print(f\"Acurácia Balanceada (Teste): {balanced_accuracy_score(y_test, gbt.predict(X_test_n))}\")\n",
    "print(\"====================================\")\n",
    "print(f\"Precision (Treino): {precision_score(y_train, gbt.predict(X_train_n))}\")\n",
    "print(f\"Precision (Teste): {precision_score(y_test, gbt.predict(X_test_n))}\")\n",
    "print(\"====================================\")\n",
    "print(f\"Recall (Treino): {recall_score(y_train, gbt.predict(X_train_n))}\")\n",
    "print(f\"Recall (Teste): {recall_score(y_test, gbt.predict(X_test_n))}\")\n",
    "print(\"====================================\")\n",
    "print(f\"F1-Score (Treino): {f1_score(y_train, gbt.predict(X_train_n))}\")\n",
    "print(f\"F1-Score (Teste): {f1_score(y_test, gbt.predict(X_test_n))}\")\n",
    "print(\"====================================\")\n",
    "print(f\"ROCAUC (Treino): {roc_auc_score(y_train, gbt.predict_proba(X_train_n)[:,1])}\")\n",
    "print(f\"ROCAUC (Teste): {roc_auc_score(y_test, gbt.predict_proba(X_test_n)[:,1])}\")"
   ]
  },
  {
   "cell_type": "code",
   "execution_count": 26,
   "id": "92339906",
   "metadata": {},
   "outputs": [
    {
     "data": {
      "image/png": "[encoded data removed]",
      "text/plain": [
       "<Figure size 432x288 with 2 Axes>"
      ]
     },
     "metadata": {
      "needs_background": "light"
     },
     "output_type": "display_data"
    }
   ],
   "source": [
    "plot_confusion_matrix(gbt, X_test_n, y_test, values_format='d');"
   ]
  },
  {
   "cell_type": "code",
   "execution_count": 27,
   "id": "4659e1fa",
   "metadata": {},
   "outputs": [
    {
     "data": {
      "image/png": "[encoded data removed]",
      "text/plain": [
       "<Figure size 432x288 with 1 Axes>"
      ]
     },
     "metadata": {
      "needs_background": "light"
     },
     "output_type": "display_data"
    }
   ],
   "source": [
    "from sklearn.metrics import plot_roc_curve\n",
    "\n",
    "plot_roc_curve(gbt, X_test_n, y_test);"
   ]
  },
  {
   "cell_type": "markdown",
   "id": "96693a90",
   "metadata": {},
   "source": [
    "<h1>XGBoosting</h1>"
   ]
  },
  {
   "cell_type": "code",
   "execution_count": 28,
   "id": "c069f9ce",
   "metadata": {},
   "outputs": [],
   "source": [
    "from xgboost import XGBClassifier\n"
   ]
  },
  {
   "cell_type": "code",
   "execution_count": 29,
   "id": "2eb62386",
   "metadata": {},
   "outputs": [],
   "source": [
    "xgb = XGBClassifier(random_state=42)"
   ]
  },
  {
   "cell_type": "code",
   "execution_count": 30,
   "id": "718a0d2f",
   "metadata": {},
   "outputs": [
    {
     "data": {
      "text/plain": [
       "XGBClassifier(base_score=0.5, booster='gbtree', callbacks=None,\n",
       "              colsample_bylevel=1, colsample_bynode=1, colsample_bytree=1,\n",
       "              early_stopping_rounds=None, enable_categorical=False,\n",
       "              eval_metric=None, gamma=0, gpu_id=-1, grow_policy='depthwise',\n",
       "              importance_type=None, interaction_constraints='',\n",
       "              learning_rate=0.300000012, max_bin=256, max_cat_to_onehot=4,\n",
       "              max_delta_step=0, max_depth=6, max_leaves=0, min_child_weight=1,\n",
       "              missing=nan, monotone_constraints='()', n_estimators=100,\n",
       "              n_jobs=0, num_parallel_tree=1, predictor='auto', random_state=42,\n",
       "              reg_alpha=0, reg_lambda=1, ...)"
      ]
     },
     "execution_count": 30,
     "metadata": {},
     "output_type": "execute_result"
    }
   ],
   "source": [
    "xgb.fit(X_train_n, y_train)"
   ]
  },
  {
   "cell_type": "code",
   "execution_count": 31,
   "id": "8def2b6c",
   "metadata": {},
   "outputs": [],
   "source": [
    "y_pred = xgb.predict(X_test_n)"
   ]
  },
  {
   "cell_type": "code",
   "execution_count": 32,
   "id": "da2d0ebe",
   "metadata": {},
   "outputs": [
    {
     "data": {
      "text/plain": [
       "<AxesSubplot:title={'center':'Feature importance'}, xlabel='F score', ylabel='Features'>"
      ]
     },
     "execution_count": 32,
     "metadata": {},
     "output_type": "execute_result"
    },
    {
     "data": {
      "image/png": "[encoded data removed]",
      "text/plain": [
       "<Figure size 432x288 with 1 Axes>"
      ]
     },
     "metadata": {
      "needs_background": "light"
     },
     "output_type": "display_data"
    }
   ],
   "source": [
    "from xgboost import plot_importance\n",
    "plot_importance(xgb)\n"
   ]
  },
  {
   "cell_type": "code",
   "execution_count": 47,
   "id": "11810979",
   "metadata": {},
   "outputs": [
    {
     "ename": "AttributeError",
     "evalue": "'XGBClassifier' object has no attribute 'get_score'",
     "output_type": "error",
     "traceback": [
      "\u001b[1;31m---------------------------------------------------------------------------\u001b[0m",
      "\u001b[1;31mAttributeError\u001b[0m                            Traceback (most recent call last)",
      "\u001b[1;32m~\\AppData\\Local\\Temp/ipykernel_5784/336030524.py\u001b[0m in \u001b[0;36m<module>\u001b[1;34m\u001b[0m\n\u001b[1;32m----> 1\u001b[1;33m \u001b[0mxgb\u001b[0m\u001b[1;33m.\u001b[0m\u001b[0mget_score\u001b[0m\u001b[1;33m(\u001b[0m\u001b[0mimportance_type\u001b[0m\u001b[1;33m=\u001b[0m\u001b[1;34m'gain'\u001b[0m\u001b[1;33m)\u001b[0m\u001b[1;33m\u001b[0m\u001b[1;33m\u001b[0m\u001b[0m\n\u001b[0m",
      "\u001b[1;31mAttributeError\u001b[0m: 'XGBClassifier' object has no attribute 'get_score'"
     ]
    }
   ],
   "source": [
    "xgb.get_score(importance_type='gain')"
   ]
  },
  {
   "cell_type": "code",
   "execution_count": 33,
   "id": "299d3cc8",
   "metadata": {},
   "outputs": [
    {
     "name": "stdout",
     "output_type": "stream",
     "text": [
      "Acurácia (Treino): 0.6333215672432051\n",
      "Acurácia (Teste): 0.6228293096145701\n",
      "====================================\n",
      "Acurácia Balanceada (Treino): 0.5837314077543586\n",
      "Acurácia Balanceada (Teste): 0.573410607657183\n",
      "====================================\n",
      "Precision (Treino): 0.5629197080291971\n",
      "Precision (Teste): 0.5406574394463668\n",
      "====================================\n",
      "Recall (Treino): 0.34275555555555554\n",
      "Recall (Teste): 0.3333333333333333\n",
      "====================================\n",
      "F1-Score (Treino): 0.4260773480662983\n",
      "F1-Score (Teste): 0.4124051468162323\n",
      "====================================\n",
      "ROCAUC (Treino): 0.6538089305230289\n",
      "ROCAUC (Teste): 0.6208468329235453\n"
     ]
    }
   ],
   "source": [
    "print(f\"Acurácia (Treino): {accuracy_score(y_train, xgb.predict(X_train_n))}\")\n",
    "print(f\"Acurácia (Teste): {accuracy_score(y_test, xgb.predict(X_test_n))}\")\n",
    "print(\"====================================\")\n",
    "print(f\"Acurácia Balanceada (Treino): {balanced_accuracy_score(y_train, xgb.predict(X_train_n))}\")\n",
    "print(f\"Acurácia Balanceada (Teste): {balanced_accuracy_score(y_test, xgb.predict(X_test_n))}\")\n",
    "print(\"====================================\")\n",
    "print(f\"Precision (Treino): {precision_score(y_train, xgb.predict(X_train_n))}\")\n",
    "print(f\"Precision (Teste): {precision_score(y_test, xgb.predict(X_test_n))}\")\n",
    "print(\"====================================\")\n",
    "print(f\"Recall (Treino): {recall_score(y_train, xgb.predict(X_train_n))}\")\n",
    "print(f\"Recall (Teste): {recall_score(y_test, xgb.predict(X_test_n))}\")\n",
    "print(\"====================================\")\n",
    "print(f\"F1-Score (Treino): {f1_score(y_train, xgb.predict(X_train_n))}\")\n",
    "print(f\"F1-Score (Teste): {f1_score(y_test, xgb.predict(X_test_n))}\")\n",
    "print(\"====================================\")\n",
    "print(f\"ROCAUC (Treino): {roc_auc_score(y_train, xgb.predict_proba(X_train_n)[:,1])}\")\n",
    "print(f\"ROCAUC (Teste): {roc_auc_score(y_test, xgb.predict_proba(X_test_n)[:,1])}\")"
   ]
  },
  {
   "cell_type": "code",
   "execution_count": 34,
   "id": "4206789d",
   "metadata": {},
   "outputs": [
    {
     "data": {
      "image/png": "[encoded data removed]",
      "text/plain": [
       "<Figure size 432x288 with 2 Axes>"
      ]
     },
     "metadata": {
      "needs_background": "light"
     },
     "output_type": "display_data"
    }
   ],
   "source": [
    "plot_confusion_matrix(xgb, X_test_n, y_test, values_format='d');"
   ]
  },
  {
   "cell_type": "code",
   "execution_count": 35,
   "id": "a7da4b4b",
   "metadata": {},
   "outputs": [
    {
     "data": {
      "image/png": "[encoded data removed]",
      "text/plain": [
       "<Figure size 432x288 with 1 Axes>"
      ]
     },
     "metadata": {
      "needs_background": "light"
     },
     "output_type": "display_data"
    }
   ],
   "source": [
    "plot_roc_curve(xgb, X_test_n, y_test);"
   ]
  },
  {
   "cell_type": "markdown",
   "id": "c2cf9b41",
   "metadata": {},
   "source": [
    "<h1>LightGBM</h1>"
   ]
  },
  {
   "cell_type": "code",
   "execution_count": 36,
   "id": "ab2e4e64",
   "metadata": {},
   "outputs": [
    {
     "data": {
      "text/plain": [
       "LGBMClassifier(random_state=42)"
      ]
     },
     "execution_count": 36,
     "metadata": {},
     "output_type": "execute_result"
    }
   ],
   "source": [
    "from lightgbm import LGBMClassifier\n",
    "\n",
    "lgbm = LGBMClassifier(random_state=42)\n",
    "\n",
    "lgbm.fit(X_train_n, y_train)"
   ]
  },
  {
   "cell_type": "code",
   "execution_count": 37,
   "id": "7648a759",
   "metadata": {},
   "outputs": [],
   "source": [
    "y_pred = lgbm.predict(X_test_n)"
   ]
  },
  {
   "cell_type": "code",
   "execution_count": 38,
   "id": "43ba936e",
   "metadata": {},
   "outputs": [
    {
     "name": "stdout",
     "output_type": "stream",
     "text": [
      "Acurácia (Treino): 0.63261560183551\n",
      "Acurácia (Teste): 0.6221939855993224\n",
      "====================================\n",
      "Acurácia Balanceada (Treino): 0.5832976320582878\n",
      "Acurácia Balanceada (Teste): 0.5733389532841587\n",
      "====================================\n",
      "Precision (Treino): 0.5611030478955007\n",
      "Precision (Teste): 0.5389221556886228\n",
      "====================================\n",
      "Recall (Treino): 0.3436444444444444\n",
      "Recall (Teste): 0.336\n",
      "====================================\n",
      "F1-Score (Treino): 0.4262403528114663\n",
      "F1-Score (Teste): 0.4139290407358739\n",
      "====================================\n",
      "ROCAUC (Treino): 0.6523108717148062\n",
      "ROCAUC (Teste): 0.621967263786442\n"
     ]
    }
   ],
   "source": [
    "print(f\"Acurácia (Treino): {accuracy_score(y_train, lgbm.predict(X_train_n))}\")\n",
    "print(f\"Acurácia (Teste): {accuracy_score(y_test, lgbm.predict(X_test_n))}\")\n",
    "print(\"====================================\")\n",
    "print(f\"Acurácia Balanceada (Treino): {balanced_accuracy_score(y_train, lgbm.predict(X_train_n))}\")\n",
    "print(f\"Acurácia Balanceada (Teste): {balanced_accuracy_score(y_test, lgbm.predict(X_test_n))}\")\n",
    "print(\"====================================\")\n",
    "print(f\"Precision (Treino): {precision_score(y_train, lgbm.predict(X_train_n))}\")\n",
    "print(f\"Precision (Teste): {precision_score(y_test, lgbm.predict(X_test_n))}\")\n",
    "print(\"====================================\")\n",
    "print(f\"Recall (Treino): {recall_score(y_train, lgbm.predict(X_train_n))}\")\n",
    "print(f\"Recall (Teste): {recall_score(y_test, lgbm.predict(X_test_n))}\")\n",
    "print(\"====================================\")\n",
    "print(f\"F1-Score (Treino): {f1_score(y_train, lgbm.predict(X_train_n))}\")\n",
    "print(f\"F1-Score (Teste): {f1_score(y_test, lgbm.predict(X_test_n))}\")\n",
    "print(\"====================================\")\n",
    "print(f\"ROCAUC (Treino): {roc_auc_score(y_train, lgbm.predict_proba(X_train_n)[:,1])}\")\n",
    "print(f\"ROCAUC (Teste): {roc_auc_score(y_test, lgbm.predict_proba(X_test_n)[:,1])}\")"
   ]
  },
  {
   "cell_type": "code",
   "execution_count": 39,
   "id": "5036edfc",
   "metadata": {},
   "outputs": [
    {
     "data": {
      "image/png": "[encoded data removed]",
      "text/plain": [
       "<Figure size 432x288 with 2 Axes>"
      ]
     },
     "metadata": {
      "needs_background": "light"
     },
     "output_type": "display_data"
    }
   ],
   "source": [
    "plot_confusion_matrix(lgbm, X_test_n, y_test, values_format='d');"
   ]
  },
  {
   "cell_type": "code",
   "execution_count": 40,
   "id": "8fd1470e",
   "metadata": {},
   "outputs": [
    {
     "data": {
      "image/png": "[encoded data removed]",
      "text/plain": [
       "<Figure size 432x288 with 1 Axes>"
      ]
     },
     "metadata": {
      "needs_background": "light"
     },
     "output_type": "display_data"
    }
   ],
   "source": [
    "plot_roc_curve(lgbm, X_test_n, y_test);"
   ]
  },
  {
   "cell_type": "code",
   "execution_count": 41,
   "id": "0010b6cf",
   "metadata": {},
   "outputs": [
    {
     "name": "stdout",
     "output_type": "stream",
     "text": [
      "Feature: Tempo Resposta, Score: 1393.00000\n",
      "Feature: Sexo_F, Score: 295.00000\n",
      "Feature: Sexo_M, Score: 56.00000\n",
      "Feature: Faixa Etária_até 20 anos, Score: 136.00000\n",
      "Feature: Faixa Etária_entre 21 a 30 anos, Score: 174.00000\n",
      "Feature: Faixa Etária_entre 31 a 40 anos, Score: 185.00000\n",
      "Feature: Faixa Etária_entre 41 a 50 anos, Score: 145.00000\n",
      "Feature: Faixa Etária_entre 51 a 60 anos, Score: 119.00000\n",
      "Feature: Faixa Etária_entre 61 a 70 anos, Score: 135.00000\n",
      "Feature: Faixa Etária_mais de 70 anos, Score: 88.00000\n",
      "Feature: Procurou Empresa_N, Score: 216.00000\n",
      "Feature: Procurou Empresa_S, Score: 58.00000\n"
     ]
    }
   ],
   "source": [
    "importances = lgbm.feature_importances_\n",
    "features = X_train_n.columns\n",
    "sorted_indices = np.argsort(importances)[::-1]\n",
    "# summarize feature importance\n",
    "for i,v in zip(features, importances):\n",
    "\tprint('Feature: %s, Score: %.5f' % (i,v))"
   ]
  },
  {
   "cell_type": "code",
   "execution_count": 42,
   "id": "91b57c4b",
   "metadata": {},
   "outputs": [
    {
     "data": {
      "image/png": "[encoded data removed]",
      "text/plain": [
       "<Figure size 432x288 with 1 Axes>"
      ]
     },
     "metadata": {
      "needs_background": "light"
     },
     "output_type": "display_data"
    }
   ],
   "source": [
    "plt.title('Feature Importance')\n",
    "plt.bar(range(X_train_n.shape[1]), importances[sorted_indices], align='center')\n",
    "plt.xticks(range(X_train_n.shape[1]), X_train_n.columns[sorted_indices], rotation=90)\n",
    "plt.tight_layout()\n",
    "plt.show()"
   ]
  }
 ],
 "metadata": {
  "kernelspec": {
   "display_name": "Python 3 (ipykernel)",
   "language": "python",
   "name": "python3"
  },
  "language_info": {
   "codemirror_mode": {
    "name": "ipython",
    "version": 3
   },
   "file_extension": ".py",
   "mimetype": "text/x-python",
   "name": "python",
   "nbconvert_exporter": "python",
   "pygments_lexer": "ipython3",
   "version": "3.9.7"
  }
 },
 "nbformat": 4,
 "nbformat_minor": 5
}
